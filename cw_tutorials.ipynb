{
 "cells": [
  {
   "cell_type": "markdown",
   "id": "066249b3",
   "metadata": {},
   "source": [
    "# Introduction\n",
    "This motebook includes some tutorial code from the [CausalWorld Documentation - Getting Started](https://causal-world.readthedocs.io/en/latest/guide/getting_started.html#getting-started)\n",
    "\n",
    "The API of this version (that is used in the causal curiosity repo) is slightly different than the latest official API.  \n",
    "so in this notebook, we simply make these adaptations to make it run as in the official release of the library"
   ]
  },
  {
   "cell_type": "code",
   "execution_count": 1,
   "id": "a4b4074d",
   "metadata": {},
   "outputs": [],
   "source": [
    "%load_ext autoreload\n",
    "%autoreload 2"
   ]
  },
  {
   "cell_type": "code",
   "execution_count": 4,
   "id": "a60093ac",
   "metadata": {},
   "outputs": [],
   "source": [
    "import os\n",
    "\n",
    "cw_root = './CausalWorld'"
   ]
  },
  {
   "cell_type": "code",
   "execution_count": 11,
   "id": "c92e18c5",
   "metadata": {},
   "outputs": [
    {
     "data": {
      "text/plain": [
       "['requesting_task',\n",
       " 'curriculums',\n",
       " 'rlkit',\n",
       " 'viewing_policies',\n",
       " 'defining_task',\n",
       " 'evaluating_model',\n",
       " 'save_state',\n",
       " 'using_agents',\n",
       " 'mpc_w_true_model',\n",
       " 'get_full_state',\n",
       " 'change_action_space',\n",
       " 'stable_baselines',\n",
       " 'set_start_state',\n",
       " 'guided_goal_generation',\n",
       " 'logging_data',\n",
       " 'priviliged_information',\n",
       " 'rlpyt',\n",
       " 'interventions',\n",
       " 'saving_and_loading']"
      ]
     },
     "execution_count": 11,
     "metadata": {},
     "output_type": "execute_result"
    }
   ],
   "source": [
    "# see the list of folders in the library's tutorials folder\n",
    "[f for f in os.listdir(os.path.join(cw_root,'tutorials')) if os.path.isdir(os.path.join(cw_root,'tutorials',f))]"
   ]
  },
  {
   "cell_type": "markdown",
   "id": "590999d0",
   "metadata": {},
   "source": [
    "# Getting Started\n",
    "The goal of the robot in each of the tasks is to fill a 3d goal shape in the arena with some tool objects available for it to manipulate. Each environment comprises a simulation version of the “TriFinger robot” that has three fingers - each with 3 joints - to learn dexterous object manipulation skills with rigid bodies available in a stage.\n",
    "\n",
    "We provide some task generators which generates a 3d shape from a specific goal shape distribution which can be rather simple like pushing, picking, pick and place of single objects but can also be much more involved like stacking towers, restoring a certain scene of objects or building structures that require imagination.\n",
    "\n"
   ]
  },
  {
   "cell_type": "code",
   "execution_count": 12,
   "id": "9e57bdad",
   "metadata": {},
   "outputs": [
    {
     "name": "stdout",
     "output_type": "stream",
     "text": [
      "pybullet build time: Aug  3 2020 20:48:16\n"
     ]
    }
   ],
   "source": [
    "from causal_world.envs import CausalWorld\n",
    "from causal_world.task_generators.task import task_generator as generate_task\n",
    "from tqdm.notebook import tqdm\n",
    "import matplotlib.pyplot as plt\n",
    "import numpy as np\n",
    "%matplotlib inline"
   ]
  },
  {
   "cell_type": "code",
   "execution_count": null,
   "id": "24378b13",
   "metadata": {},
   "outputs": [],
   "source": [
    "task = task_generator(task_generator_id='stacked_blocks')\n",
    "env = CausalWorld(task=task)\n",
    "env.reset()\n",
    "for _ in tqdm(range(200)):\n",
    "    obs, reward, done, info = env.step(env.action_space.sample())\n",
    "env.close()"
   ]
  },
  {
   "cell_type": "markdown",
   "id": "f0d01889",
   "metadata": {},
   "source": [
    "By default you are getting a task that has structured observation space and the low level controller is a joint positions controller. The goal is to solve the task within (the number of objects in the arena multiplied by 10) seconds. All of this is easily customizable as you will learn in one of the many tutorials provided."
   ]
  },
  {
   "cell_type": "markdown",
   "id": "67537644",
   "metadata": {},
   "source": [
    "## Basics - Controlling environments and tasks\n",
    "based on the python scripts in `tutorials/requesting_task`"
   ]
  },
  {
   "cell_type": "code",
   "execution_count": 13,
   "id": "13839be3",
   "metadata": {},
   "outputs": [
    {
     "name": "stdout",
     "output_type": "stream",
     "text": [
      "startThreads creating 1 threads.\n",
      "starting thread 0\n",
      "started thread 0 \n",
      "argc=2\n",
      "argv[0] = --unused\n",
      "argv[1] = --start_demo_name=Physics Server\n",
      "ExampleBrowserThreadFunc started\n",
      "X11 functions dynamically loaded using dlopen/dlsym OK!\n",
      "X11 functions dynamically loaded using dlopen/dlsym OK!\n",
      "Creating context\n",
      "Created GL 3.3 context\n",
      "Direct GLX rendering context obtained\n",
      "Making context current\n",
      "GL_VENDOR=NVIDIA Corporation\n",
      "GL_RENDERER=NVIDIA GeForce GTX 970/PCIe/SSE2\n",
      "GL_VERSION=3.3.0 NVIDIA 510.47.03\n",
      "GL_SHADING_LANGUAGE_VERSION=3.30 NVIDIA via Cg compiler\n",
      "pthread_getconcurrency()=0\n",
      "Version = 3.3.0 NVIDIA 510.47.03\n",
      "Vendor = NVIDIA Corporation\n",
      "Renderer = NVIDIA GeForce GTX 970/PCIe/SSE2\n",
      "b3Printf: Selected demo: Physics Server\n",
      "startThreads creating 1 threads.\n",
      "starting thread 0\n",
      "started thread 0 \n",
      "MotionThreadFunc thread started\n",
      "ven = NVIDIA Corporation\n",
      "ven = NVIDIA Corporation\n",
      "numActiveThreads = 0\n",
      "stopping threads\n",
      "destroy semaphore\n",
      "semaphore destroyed\n",
      "Thread with taskId 0 exiting\n",
      "Thread TERMINATED\n",
      "destroy main semaphore\n",
      "main semaphore destroyed\n",
      "finished\n",
      "numActiveThreads = 0\n",
      "btShutDownExampleBrowser stopping threads\n",
      "destroy semaphore\n",
      "semaphore destroyed\n",
      "Thread with taskId 0 exiting\n",
      "Thread TERMINATED\n",
      "destroy main semaphore\n",
      "main semaphore destroyed\n"
     ]
    }
   ],
   "source": [
    "#based on './requesting_task/tutorial_one.py'\n",
    "\"\"\"\n",
    "This tutorial shows you how to generate a task using one of the task generators\n",
    "and then using it with the CausalWorld environment.\n",
    "\"\"\"\n",
    "\n",
    "def requesting_task_1():\n",
    "    task = generate_task(task_generator_id='creative_stacked_blocks')\n",
    "    env = CausalWorld(task=task, enable_visualization=True)\n",
    "    for _ in range(20):     # run 20 episodes\n",
    "        env.reset()\n",
    "        for _ in range(200):\n",
    "            obs, reward, done, info = env.step(env.action_space.sample())\n",
    "    env.close()\n",
    "\n",
    "requesting_task_1()\n"
   ]
  },
  {
   "cell_type": "code",
   "execution_count": 15,
   "id": "3f7c0120",
   "metadata": {},
   "outputs": [
    {
     "name": "stdout",
     "output_type": "stream",
     "text": [
      "episode # 0\n"
     ]
    },
    {
     "data": {
      "application/vnd.jupyter.widget-view+json": {
       "model_id": "c6a47aaa25344986bf169e4c0b414da6",
       "version_major": 2,
       "version_minor": 0
      },
      "text/plain": [
       "  0%|          | 0/200 [00:00<?, ?it/s]"
      ]
     },
     "metadata": {},
     "output_type": "display_data"
    },
    {
     "name": "stdout",
     "output_type": "stream",
     "text": [
      "obs shape: (502,)\n",
      "info: {'desired_goal': array([[[-0.0575, -0.0175,  0.    ],\n",
      "        [-0.0225,  0.0175,  0.035 ]],\n",
      "\n",
      "       [[-0.0225, -0.0175,  0.    ],\n",
      "        [ 0.0125,  0.0175,  0.035 ]],\n",
      "\n",
      "       [[ 0.0125, -0.0175,  0.    ],\n",
      "        [ 0.0475,  0.0175,  0.035 ]],\n",
      "\n",
      "       [[-0.0475, -0.0175,  0.245 ],\n",
      "        [-0.0125,  0.0175,  0.28  ]],\n",
      "\n",
      "       [[-0.0125, -0.0175,  0.245 ],\n",
      "        [ 0.0225,  0.0175,  0.28  ]],\n",
      "\n",
      "       [[ 0.0225, -0.0175,  0.245 ],\n",
      "        [ 0.0575,  0.0175,  0.28  ]]]), 'achieved_goal': array([[[-7.41792475e-02, -1.16002297e-01, -1.20611107e-05],\n",
      "        [-3.20519531e-02, -7.38746695e-02,  3.49892196e-02]],\n",
      "\n",
      "       [[-3.39628685e-02, -1.24245313e-01, -1.77074933e-05],\n",
      "        [ 4.58535215e-03, -8.56958419e-02,  3.49902118e-02]],\n",
      "\n",
      "       [[ 2.81527723e-03, -2.06562510e-01, -1.28986023e-05],\n",
      "        [ 4.96035236e-02, -1.59771557e-01,  3.49922592e-02]],\n",
      "\n",
      "       [[-7.35073632e-02,  6.09405755e-02, -2.02214159e-05],\n",
      "        [-3.41039302e-02,  1.00345538e-01,  3.49824714e-02]],\n",
      "\n",
      "       [[-3.90939457e-02,  7.33384305e-02, -6.18880752e-04],\n",
      "        [ 8.63531977e-03,  1.21059918e-01,  3.44607239e-02]],\n",
      "\n",
      "       [[ 2.81904316e-02,  8.74577840e-02, -1.12982773e-03],\n",
      "        [ 7.64817717e-02,  1.35902293e-01,  3.41947410e-02]],\n",
      "\n",
      "       [[-6.91961662e-02, -1.18563505e-01,  3.49773819e-02],\n",
      "        [-2.86150975e-02, -7.79934081e-02,  6.99936152e-02]],\n",
      "\n",
      "       [[-3.35097036e-02, -1.24189460e-01,  3.49721654e-02],\n",
      "        [ 7.46963310e-03, -8.32080530e-02,  6.99761707e-02]],\n",
      "\n",
      "       [[ 1.33924873e-02, -2.06355596e-01,  3.49764772e-02],\n",
      "        [ 5.22246600e-02, -1.67522633e-01,  6.99804113e-02]],\n",
      "\n",
      "       [[-1.07972571e-01,  4.12543379e-02, -1.43178649e-05],\n",
      "        [-6.74837981e-02,  8.17447897e-02,  3.49876738e-02]],\n",
      "\n",
      "       [[-9.00304239e-03,  1.40113159e-02, -7.47656712e-04],\n",
      "        [ 4.05794934e-02,  6.88823831e-02,  4.41194665e-02]],\n",
      "\n",
      "       [[ 8.92919330e-02,  3.58953470e-02, -1.26983357e-05],\n",
      "        [ 1.25269751e-01,  7.18747205e-02,  3.49890515e-02]],\n",
      "\n",
      "       [[-6.84814180e-02, -1.70281635e-01, -4.02591539e-04],\n",
      "        [-2.37468369e-02, -1.15160348e-01,  4.82820123e-02]],\n",
      "\n",
      "       [[-2.86371239e-02, -1.68188785e-01, -3.18145152e-05],\n",
      "        [ 1.14457772e-02, -1.27586965e-01,  3.55987505e-02]],\n",
      "\n",
      "       [[ 1.35563449e-01, -1.57540633e-01, -3.04899255e-05],\n",
      "        [ 1.84970153e-01, -1.08160465e-01,  3.50104621e-02]],\n",
      "\n",
      "       [[-2.22453268e-01, -7.27790535e-03, -1.15902339e-05],\n",
      "        [-1.81323987e-01,  3.38507961e-02,  3.49891096e-02]],\n",
      "\n",
      "       [[-5.24122663e-02,  2.41837359e-02, -4.64849862e-05],\n",
      "        [-5.84667324e-03,  7.07467649e-02,  3.49610402e-02]],\n",
      "\n",
      "       [[ 1.49717648e-01,  4.09602972e-03, -1.09788576e-05],\n",
      "        [ 1.92746618e-01,  4.71250004e-02,  3.49890211e-02]],\n",
      "\n",
      "       [[-5.06483628e-02, -2.05873583e-01, -1.39612013e-05],\n",
      "        [-1.49442109e-02, -1.70167139e-01,  3.49923510e-02]],\n",
      "\n",
      "       [[-2.91324662e-02, -2.02902999e-01,  3.49747682e-02],\n",
      "        [ 1.08564240e-02, -1.62912899e-01,  6.99842675e-02]],\n",
      "\n",
      "       [[ 1.67046398e-01, -1.27776593e-01, -2.84319273e-05],\n",
      "        [ 2.13128452e-01, -8.16861768e-02,  3.50037926e-02]],\n",
      "\n",
      "       [[ 1.43406345e-01,  9.14032656e-02, -1.09788710e-05],\n",
      "        [ 1.84678110e-01,  1.32675031e-01,  3.49890212e-02]],\n",
      "\n",
      "       [[ 9.11785670e-02,  1.05598102e-01, -1.09802190e-05],\n",
      "        [ 1.40431618e-01,  1.54851153e-01,  3.49890212e-02]],\n",
      "\n",
      "       [[ 1.25777136e-01,  1.44877808e-01, -1.09788579e-05],\n",
      "        [ 1.61318031e-01,  1.80418703e-01,  3.49890211e-02]]]), 'success': False, 'fractional_success': 0.023534395114789153}\n"
     ]
    }
   ],
   "source": [
    "\"\"\"\n",
    "This tutorial shows you how to generate a task using one of the task generators\n",
    "and then using it with the CausalWorld environment.\n",
    "this time, we look at the true state space (not pixels)\n",
    "\"\"\"\n",
    "\n",
    "def example():\n",
    "    task = generate_task(task_generator_id='creative_stacked_blocks')\n",
    "    env = CausalWorld(task=task, enable_visualization=False)     # enable_visualization=True crashes the jupyter kernel\n",
    "    for i in range(1):\n",
    "        print(f'episode # {i}')\n",
    "        env.reset()\n",
    "        for _ in tqdm(range(200)):\n",
    "            obs, reward, done, info = env.step(env.action_space.sample())\n",
    "    env.close()\n",
    "    print(f'obs shape: {obs.shape}')\n",
    "    print(f'info: {info}')\n",
    "\n",
    "example()"
   ]
  },
  {
   "cell_type": "code",
   "execution_count": 16,
   "id": "2a7a83e7",
   "metadata": {},
   "outputs": [],
   "source": [
    "task = generate_task(task_generator_id='creative_stacked_blocks')\n",
    "env = CausalWorld(task=task, enable_visualization=False)     # enable_visualization=True crashes the jupyter kernel\n"
   ]
  },
  {
   "cell_type": "code",
   "execution_count": 30,
   "id": "3c5f272a",
   "metadata": {},
   "outputs": [
    {
     "data": {
      "text/plain": [
       "(502,)"
      ]
     },
     "execution_count": 30,
     "metadata": {},
     "output_type": "execute_result"
    }
   ],
   "source": [
    "env.observation_space.shape\n",
    "# env._task.get_current_scm_values()"
   ]
  },
  {
   "cell_type": "markdown",
   "id": "3fdc4dbc",
   "metadata": {},
   "source": [
    "**Note**  \n",
    "Its not clear how we got obs_dim of 502. \n",
    "according to the documentation, here's the structure of the observation space:  \n",
    "\n",
    "Common: \n",
    "- time left for task (1), \n",
    "- joint_positions (9), \n",
    "- joint_velocities (9), \n",
    "- end_effector_positions (9)  \n",
    "\n",
    "\n",
    "Then for each tool object in the environment additional 17-dimensions are used representing: \n",
    "- type (1), \n",
    "- size (3), \n",
    "- cartesian_position (3), \n",
    "- quaternion_orientation (4), \n",
    "- linear_velocity (3), \n",
    "- angular_velocity (3)  \n",
    "  \n",
    "\n",
    "For each goal subshape in the environment additional 11-dimesnions are used representing: \n",
    "- type (1), \n",
    "- size (3), \n",
    "- cartesian_position (3) \n",
    "- orientation (4)  \n",
    "  \n",
    "  \n",
    "Lastly, if there are any fixed blocks in the environment additional 11-dimesnions are used representing: \n",
    "- type (1), \n",
    "- size (3), \n",
    "- cartesian_position (3) \n",
    "- orientation (4).\n"
   ]
  },
  {
   "cell_type": "code",
   "execution_count": 31,
   "id": "373e2620",
   "metadata": {},
   "outputs": [
    {
     "data": {
      "image/png": "[encoded data removed]",
      "text/plain": [
       "<Figure size 432x288 with 1 Axes>"
      ]
     },
     "metadata": {
      "needs_background": "light"
     },
     "output_type": "display_data"
    },
    {
     "data": {
      "image/png": "[encoded data removed]",
      "text/plain": [
       "<Figure size 432x288 with 1 Axes>"
      ]
     },
     "metadata": {
      "needs_background": "light"
     },
     "output_type": "display_data"
    },
    {
     "data": {
      "image/png": "[encoded data removed]",
      "text/plain": [
       "<Figure size 432x288 with 1 Axes>"
      ]
     },
     "metadata": {
      "needs_background": "light"
     },
     "output_type": "display_data"
    },
    {
     "data": {
      "image/png": "[encoded data removed]",
      "text/plain": [
       "<Figure size 432x288 with 1 Axes>"
      ]
     },
     "metadata": {
      "needs_background": "light"
     },
     "output_type": "display_data"
    },
    {
     "data": {
      "image/png": "[encoded data removed]",
      "text/plain": [
       "<Figure size 432x288 with 1 Axes>"
      ]
     },
     "metadata": {
      "needs_background": "light"
     },
     "output_type": "display_data"
    },
    {
     "data": {
      "image/png": "[encoded data removed]",
      "text/plain": [
       "<Figure size 432x288 with 1 Axes>"
      ]
     },
     "metadata": {
      "needs_background": "light"
     },
     "output_type": "display_data"
    },
    {
     "name": "stdout",
     "output_type": "stream",
     "text": [
      "obs shape: (6, 128, 128, 3)\n",
      "info: {'desired_goal': array([[[-0.1275, -0.0175,  0.    ],\n",
      "        [-0.0925,  0.0175,  0.035 ]],\n",
      "\n",
      "       [[-0.0925, -0.0175,  0.    ],\n",
      "        [-0.0575,  0.0175,  0.035 ]],\n",
      "\n",
      "       [[-0.0575, -0.0175,  0.    ],\n",
      "        [-0.0225,  0.0175,  0.035 ]],\n",
      "\n",
      "       [[-0.0225, -0.0175,  0.    ],\n",
      "        [ 0.0125,  0.0175,  0.035 ]],\n",
      "\n",
      "       [[ 0.0125, -0.0175,  0.    ],\n",
      "        [ 0.0475,  0.0175,  0.035 ]],\n",
      "\n",
      "       [[ 0.0475, -0.0175,  0.    ],\n",
      "        [ 0.0825,  0.0175,  0.035 ]],\n",
      "\n",
      "       [[ 0.0825, -0.0175,  0.    ],\n",
      "        [ 0.1175,  0.0175,  0.035 ]],\n",
      "\n",
      "       [[-0.1175, -0.0175,  0.035 ],\n",
      "        [-0.0825,  0.0175,  0.07  ]],\n",
      "\n",
      "       [[-0.0825, -0.0175,  0.035 ],\n",
      "        [-0.0475,  0.0175,  0.07  ]],\n",
      "\n",
      "       [[-0.0475, -0.0175,  0.035 ],\n",
      "        [-0.0125,  0.0175,  0.07  ]],\n",
      "\n",
      "       [[-0.0125, -0.0175,  0.035 ],\n",
      "        [ 0.0225,  0.0175,  0.07  ]],\n",
      "\n",
      "       [[ 0.0225, -0.0175,  0.035 ],\n",
      "        [ 0.0575,  0.0175,  0.07  ]],\n",
      "\n",
      "       [[ 0.0575, -0.0175,  0.035 ],\n",
      "        [ 0.0925,  0.0175,  0.07  ]],\n",
      "\n",
      "       [[ 0.0925, -0.0175,  0.035 ],\n",
      "        [ 0.1275,  0.0175,  0.07  ]],\n",
      "\n",
      "       [[-0.1275, -0.0175,  0.07  ],\n",
      "        [-0.0925,  0.0175,  0.105 ]],\n",
      "\n",
      "       [[-0.0925, -0.0175,  0.07  ],\n",
      "        [-0.0575,  0.0175,  0.105 ]],\n",
      "\n",
      "       [[-0.0575, -0.0175,  0.07  ],\n",
      "        [-0.0225,  0.0175,  0.105 ]],\n",
      "\n",
      "       [[-0.0225, -0.0175,  0.07  ],\n",
      "        [ 0.0125,  0.0175,  0.105 ]],\n",
      "\n",
      "       [[ 0.0125, -0.0175,  0.07  ],\n",
      "        [ 0.0475,  0.0175,  0.105 ]],\n",
      "\n",
      "       [[ 0.0475, -0.0175,  0.07  ],\n",
      "        [ 0.0825,  0.0175,  0.105 ]],\n",
      "\n",
      "       [[ 0.0825, -0.0175,  0.07  ],\n",
      "        [ 0.1175,  0.0175,  0.105 ]],\n",
      "\n",
      "       [[-0.1175, -0.0175,  0.105 ],\n",
      "        [-0.0825,  0.0175,  0.14  ]],\n",
      "\n",
      "       [[-0.0825, -0.0175,  0.105 ],\n",
      "        [-0.0475,  0.0175,  0.14  ]],\n",
      "\n",
      "       [[-0.0475, -0.0175,  0.105 ],\n",
      "        [-0.0125,  0.0175,  0.14  ]],\n",
      "\n",
      "       [[-0.0125, -0.0175,  0.105 ],\n",
      "        [ 0.0225,  0.0175,  0.14  ]],\n",
      "\n",
      "       [[ 0.0225, -0.0175,  0.105 ],\n",
      "        [ 0.0575,  0.0175,  0.14  ]],\n",
      "\n",
      "       [[ 0.0575, -0.0175,  0.105 ],\n",
      "        [ 0.0925,  0.0175,  0.14  ]],\n",
      "\n",
      "       [[ 0.0925, -0.0175,  0.105 ],\n",
      "        [ 0.1275,  0.0175,  0.14  ]],\n",
      "\n",
      "       [[-0.1275, -0.0175,  0.14  ],\n",
      "        [-0.0925,  0.0175,  0.175 ]],\n",
      "\n",
      "       [[-0.0925, -0.0175,  0.14  ],\n",
      "        [-0.0575,  0.0175,  0.175 ]],\n",
      "\n",
      "       [[-0.0575, -0.0175,  0.14  ],\n",
      "        [-0.0225,  0.0175,  0.175 ]],\n",
      "\n",
      "       [[-0.0225, -0.0175,  0.14  ],\n",
      "        [ 0.0125,  0.0175,  0.175 ]],\n",
      "\n",
      "       [[ 0.0125, -0.0175,  0.14  ],\n",
      "        [ 0.0475,  0.0175,  0.175 ]],\n",
      "\n",
      "       [[ 0.0475, -0.0175,  0.14  ],\n",
      "        [ 0.0825,  0.0175,  0.175 ]],\n",
      "\n",
      "       [[ 0.0825, -0.0175,  0.14  ],\n",
      "        [ 0.1175,  0.0175,  0.175 ]]]), 'achieved_goal': array([[[-1.30829295e-01, -1.18373354e-01, -1.97488502e-04],\n",
      "        [-9.33910147e-02, -8.11152934e-02,  3.49958121e-02]],\n",
      "\n",
      "       [[-9.52670894e-02, -1.17716023e-01, -3.60311744e-04],\n",
      "        [-5.78395889e-02, -7.24000828e-02,  4.30292670e-02]],\n",
      "\n",
      "       [[-6.01907790e-02, -1.17242361e-01, -8.37350421e-05],\n",
      "        [-2.21717679e-02, -7.69420315e-02,  3.75651750e-02]],\n",
      "\n",
      "       [[-2.27004658e-02, -1.17513111e-01, -8.94478547e-05],\n",
      "        [ 1.27391871e-02, -8.20966487e-02,  3.50456476e-02]],\n",
      "\n",
      "       [[ 1.25263084e-02, -1.17512051e-01, -2.40732802e-05],\n",
      "        [ 4.76699956e-02, -8.23666307e-02,  3.49976821e-02]],\n",
      "\n",
      "       [[ 4.75231636e-02, -1.17478657e-01, -7.78858198e-05],\n",
      "        [ 8.26698933e-02, -8.23184887e-02,  3.50109080e-02]],\n",
      "\n",
      "       [[ 8.30613125e-02, -1.19565347e-01, -2.25953382e-04],\n",
      "        [ 1.18492830e-01, -8.29208918e-02,  3.60604979e-02]],\n",
      "\n",
      "       [[-1.20170478e-01,  8.18365644e-02, -3.77552683e-04],\n",
      "        [-8.46206410e-02,  1.19627216e-01,  3.70833517e-02]],\n",
      "\n",
      "       [[-8.45002964e-02,  8.41394252e-02, -4.67088061e-04],\n",
      "        [-4.85573206e-02,  1.20133524e-01,  3.48635775e-02]],\n",
      "\n",
      "       [[-4.81433729e-02,  8.42517626e-02, -2.20074789e-04],\n",
      "        [-1.27914775e-02,  1.19641129e-01,  3.48258245e-02]],\n",
      "\n",
      "       [[-1.27563751e-02,  8.36159568e-02, -3.50100795e-04],\n",
      "        [ 2.25442779e-02,  1.18821850e-01,  3.50789421e-02]],\n",
      "\n",
      "       [[ 2.23376455e-02,  8.39951335e-02, -2.24077363e-04],\n",
      "        [ 5.84333440e-02,  1.19788083e-01,  3.56985878e-02]],\n",
      "\n",
      "       [[ 5.88016955e-02,  8.43050941e-02, -5.01272770e-04],\n",
      "        [ 9.48775187e-02,  1.20146520e-01,  3.47628466e-02]],\n",
      "\n",
      "       [[ 9.47244650e-02,  8.41541589e-02, -2.91007862e-04],\n",
      "        [ 1.30211062e-01,  1.19655994e-01,  3.48132701e-02]],\n",
      "\n",
      "       [[-1.25199860e-01, -5.65098476e-02, -2.46835044e-03],\n",
      "        [-8.42710858e-02, -1.39369072e-02,  3.45458529e-02]],\n",
      "\n",
      "       [[-9.49662455e-02, -8.85670370e-02,  1.81873069e-02],\n",
      "        [-5.07410551e-02, -3.26460054e-02,  7.21796842e-02]],\n",
      "\n",
      "       [[-6.15412300e-02, -1.01295449e-01,  3.08012365e-02],\n",
      "        [-1.70585392e-02, -5.12588995e-02,  7.35347053e-02]],\n",
      "\n",
      "       [[-2.14603030e-02, -1.14230148e-01,  3.48294924e-02],\n",
      "        [ 1.83457394e-02, -7.42885437e-02,  7.00411396e-02]],\n",
      "\n",
      "       [[ 1.59374889e-02, -1.17415170e-01,  3.49122932e-02],\n",
      "        [ 5.35484383e-02, -8.02208781e-02,  7.04050222e-02]],\n",
      "\n",
      "       [[ 5.23738893e-02, -1.20888991e-01,  3.47695315e-02],\n",
      "        [ 9.12076754e-02, -8.17198874e-02,  7.17566796e-02]],\n",
      "\n",
      "       [[ 8.73951924e-02, -1.24327112e-01,  3.44163688e-02],\n",
      "        [ 1.27500418e-01, -8.36639792e-02,  7.30934821e-02]],\n",
      "\n",
      "       [[-1.18027450e-01,  7.68835502e-02,  3.41192201e-02],\n",
      "        [-8.30097629e-02,  1.14379985e-01,  7.16164171e-02]],\n",
      "\n",
      "       [[-8.29149955e-02,  8.24644059e-02,  3.43469935e-02],\n",
      "        [-4.78808766e-02,  1.17612177e-01,  6.94836979e-02]],\n",
      "\n",
      "       [[-4.79775638e-02,  8.24244883e-02,  3.44106045e-02],\n",
      "        [-1.27782440e-02,  1.17481944e-01,  6.96580391e-02]],\n",
      "\n",
      "       [[-1.31200418e-02,  8.20980765e-02,  3.44319085e-02],\n",
      "        [ 2.22160503e-02,  1.17351818e-01,  6.97306160e-02]],\n",
      "\n",
      "       [[ 2.18281004e-02,  8.23017919e-02,  3.47410469e-02],\n",
      "        [ 5.73208122e-02,  1.17599698e-01,  7.01431620e-02]],\n",
      "\n",
      "       [[ 5.72640790e-02,  8.26325472e-02,  3.43432292e-02],\n",
      "        [ 9.24260559e-02,  1.17742748e-01,  6.93959630e-02]],\n",
      "\n",
      "       [[ 9.24499563e-02,  8.23195294e-02,  3.44589011e-02],\n",
      "        [ 1.27474792e-01,  1.17334645e-01,  6.94732385e-02]],\n",
      "\n",
      "       [[-1.33061970e-01, -8.36309776e-02,  2.37322572e-02],\n",
      "        [-9.22258085e-02, -3.37339471e-02,  7.67684934e-02]],\n",
      "\n",
      "       [[-1.14635775e-01, -1.36223175e-01,  4.01997821e-02],\n",
      "        [-6.25072973e-02, -8.14866966e-02,  8.72725589e-02]],\n",
      "\n",
      "       [[-5.59761385e-02, -1.15782980e-01,  7.16568532e-02],\n",
      "        [-1.62554067e-02, -7.63767120e-02,  1.08893172e-01]],\n",
      "\n",
      "       [[-1.84416024e-02, -1.16039019e-01,  6.91390839e-02],\n",
      "        [ 1.91267506e-02, -7.84934225e-02,  1.05174149e-01]],\n",
      "\n",
      "       [[ 1.82032835e-02, -1.18501925e-01,  6.91117204e-02],\n",
      "        [ 5.70041418e-02, -8.00783929e-02,  1.05060111e-01]],\n",
      "\n",
      "       [[ 5.39690068e-02, -1.23088989e-01,  6.93870880e-02],\n",
      "        [ 9.29168896e-02, -8.29042780e-02,  1.06257965e-01]],\n",
      "\n",
      "       [[ 8.93478278e-02, -1.28903432e-01,  6.88596936e-02],\n",
      "        [ 1.29493864e-01, -8.75454433e-02,  1.07265213e-01]]]), 'success': False, 'fractional_success': 0.003357218581493134}\n"
     ]
    }
   ],
   "source": [
    "\"\"\"\n",
    "This tutorial shows you how to generate a task using one of the task generators\n",
    "and then using it with the CausalWorld environment but having camera observations\n",
    "instead of the default structured observations.\n",
    "\"\"\"\n",
    "\n",
    "def requesting_task_2():\n",
    "    task = generate_task(task_generator_id='stacked_blocks')\n",
    "    env = CausalWorld(task=task,\n",
    "                      skip_frame=10,\n",
    "                      enable_visualization=False,\n",
    "                      seed=0,\n",
    "                      action_mode=\"joint_positions\",\n",
    "                      observation_mode=\"pixel\",\n",
    "                      camera_indicies=[0, 1, 2])\n",
    "    env.reset()\n",
    "    for _ in range(5):\n",
    "        obs, reward, done, info = env.step(env.action_space.sample())\n",
    "    #show last observation's images\n",
    "    for i in range(6):\n",
    "        plt.imshow(obs[i])\n",
    "        plt.show()    \n",
    "    env.close()\n",
    "    print(f'obs shape: {obs.shape}')\n",
    "    print(f'info: {info}')\n",
    "\n",
    "requesting_task_2()"
   ]
  },
  {
   "cell_type": "code",
   "execution_count": null,
   "id": "df2b4ce4",
   "metadata": {},
   "outputs": [],
   "source": [
    "\"\"\"\n",
    "requesting_task_3\n",
    "This tutorial shows you how to solve reaching task using inverse kinemetics\n",
    "provided in the package internally.\n",
    "\"\"\"\n",
    "\n",
    "def control_policy(env, obs):\n",
    "    return \\\n",
    "        env.get_robot().get_joint_positions_from_tip_positions(\n",
    "            obs[-9:], obs[1:10])\n",
    "\n",
    "\n",
    "def end_effector_pos():\n",
    "    task = generate_task(task_generator_id='reaching')\n",
    "    env = CausalWorld(task=task,\n",
    "                      enable_visualization=False,\n",
    "                      action_mode=\"joint_positions\",\n",
    "                      normalize_actions=False,\n",
    "                      normalize_observations=False)\n",
    "    obs = env.reset()\n",
    "    for _ in range(100):\n",
    "        goal_dict = env.sample_new_goal()\n",
    "        success_signal, obs = env.do_intervention(goal_dict)\n",
    "        obs, reward, done, info = env.step(control_policy(env, obs))\n",
    "        for _ in range(250):\n",
    "            obs, reward, done, info = env.step(control_policy(env, obs))\n",
    "    env.close()\n",
    "\n",
    "end_effector_pos()"
   ]
  },
  {
   "cell_type": "code",
   "execution_count": 48,
   "id": "ab0380bf",
   "metadata": {},
   "outputs": [
    {
     "data": {
      "text/plain": [
       "{'stack_levels': 4.350039865960824,\n",
       " 'blocks_mass': 0.0641116413273557,\n",
       " 'blocks_min_size': 0.07348754180469752,\n",
       " 'max_level_width': 0.06360661150479517}"
      ]
     },
     "execution_count": 48,
     "metadata": {},
     "output_type": "execute_result"
    }
   ],
   "source": [
    "goal_dict = env.sample_new_goal()\n",
    "goal_dict"
   ]
  },
  {
   "cell_type": "code",
   "execution_count": 49,
   "id": "7710c185",
   "metadata": {},
   "outputs": [
    {
     "data": {
      "text/plain": [
       "0.03575159201745421"
      ]
     },
     "execution_count": 49,
     "metadata": {},
     "output_type": "execute_result"
    }
   ],
   "source": [
    "env.get_task().current_blocks_min_size"
   ]
  },
  {
   "cell_type": "code",
   "execution_count": 50,
   "id": "78426735",
   "metadata": {},
   "outputs": [
    {
     "data": {
      "text/plain": [
       "True"
      ]
     },
     "execution_count": 50,
     "metadata": {},
     "output_type": "execute_result"
    }
   ],
   "source": [
    "success_signal, obs = env.do_intervention(goal_dict)\n",
    "success_signal"
   ]
  },
  {
   "cell_type": "code",
   "execution_count": 56,
   "id": "b7e842a1",
   "metadata": {},
   "outputs": [
    {
     "data": {
      "text/plain": [
       "{'pybullet_state': {'full': 1,\n",
       "  'latest_full_state': {'positions': array([-0.01355939,  0.72233115, -0.67128814, -0.01355939,  0.72233115,\n",
       "          -0.67128814, -0.01355939,  0.72233115, -0.67128814]),\n",
       "   'velocities': array([-0.5582615 , -2.61650253,  4.77390781, -0.5582615 , -2.61650253,\n",
       "           4.77390781, -0.5582615 , -2.61650253,  4.77390781]),\n",
       "   'torques': array([0., 0., 0., 0., 0., 0., 0., 0., 0.]),\n",
       "   'end_effector_positions': array([-0.05565027,  0.15944501,  0.04838538,  0.16590856, -0.03152796,\n",
       "           0.04838538, -0.11025829, -0.12791705,  0.04838538])}},\n",
       " 'control_index': -1}"
      ]
     },
     "execution_count": 56,
     "metadata": {},
     "output_type": "execute_result"
    }
   ],
   "source": [
    "env.get_state()"
   ]
  },
  {
   "cell_type": "markdown",
   "id": "fad5c4a7",
   "metadata": {},
   "source": [
    "## Performing Interventions"
   ]
  },
  {
   "cell_type": "code",
   "execution_count": null,
   "id": "80bf0c41",
   "metadata": {},
   "outputs": [],
   "source": [
    "\"\"\"\n",
    "interventions_1\n",
    "This tutorial shows you how to perform a random intervention on one of the\n",
    "variables in the environment.\n",
    "\"\"\"\n",
    "def intervention_1():\n",
    "    task = generate_task(task_generator_id='picking')\n",
    "    env = CausalWorld(task=task, enable_visualization=False)\n",
    "    env.reset()\n",
    "    for _ in range(50):\n",
    "        random_intervention_dict, success_signal, obs = \\\n",
    "            env.do_single_random_intervention()\n",
    "        print(\"The random intervention performed is \",\n",
    "              random_intervention_dict)\n",
    "        for i in range(100):\n",
    "            obs, reward, done, info = env.step(env.action_space.sample())\n",
    "    env.close()\n",
    "\n",
    "intervention_1()"
   ]
  },
  {
   "cell_type": "code",
   "execution_count": null,
   "id": "810b7c44",
   "metadata": {},
   "outputs": [],
   "source": [
    "task = generate_task(task_generator_id='picking')\n",
    "env = CausalWorld(task=task, enable_visualization=False)"
   ]
  },
  {
   "cell_type": "markdown",
   "id": "c6a55fb7",
   "metadata": {},
   "source": [
    "the method `task.do_single_random_intervention` checks which `variables_space` we're using and randomly choose a variable name from it "
   ]
  },
  {
   "cell_type": "code",
   "execution_count": 71,
   "id": "e4c849d2",
   "metadata": {},
   "outputs": [
    {
     "name": "stdout",
     "output_type": "stream",
     "text": [
      "space_a_b\n"
     ]
    },
    {
     "data": {
      "text/plain": [
       "{'joint_positions': array([[-1.57, -1.2 , -3.  , -1.57, -1.2 , -3.  , -1.57, -1.2 , -3.  ],\n",
       "        [ 1.  ,  1.57,  3.  ,  1.  ,  1.57,  3.  ,  1.  ,  1.57,  3.  ]]),\n",
       " 'tool_level_0_num_0': {'cylindrical_position': array([[ 0.        , -3.14159265,  0.03674377],\n",
       "         [ 0.15      ,  3.14159265,  0.3       ]]),\n",
       "  'euler_orientation': array([[ 0.        ,  0.        , -3.14159265],\n",
       "         [ 0.        ,  0.        ,  3.14159265]]),\n",
       "  'color': array([[0., 0., 0.],\n",
       "         [1., 1., 1.]]),\n",
       "  'mass': array([0.015, 0.2  ])},\n",
       " 'tool_level_1_num_0': {'cylindrical_position': array([[ 0.        , -3.14159265,  0.03674377],\n",
       "         [ 0.15      ,  3.14159265,  0.3       ]]),\n",
       "  'euler_orientation': array([[ 0.        ,  0.        , -3.14159265],\n",
       "         [ 0.        ,  0.        ,  3.14159265]]),\n",
       "  'color': array([[0., 0., 0.],\n",
       "         [1., 1., 1.]]),\n",
       "  'mass': array([0.015, 0.2  ])},\n",
       " 'tool_level_2_num_0': {'cylindrical_position': array([[ 0.        , -3.14159265,  0.03674377],\n",
       "         [ 0.15      ,  3.14159265,  0.3       ]]),\n",
       "  'euler_orientation': array([[ 0.        ,  0.        , -3.14159265],\n",
       "         [ 0.        ,  0.        ,  3.14159265]]),\n",
       "  'color': array([[0., 0., 0.],\n",
       "         [1., 1., 1.]]),\n",
       "  'mass': array([0.015, 0.2  ])},\n",
       " 'tool_level_3_num_0': {'cylindrical_position': array([[ 0.        , -3.14159265,  0.03674377],\n",
       "         [ 0.15      ,  3.14159265,  0.3       ]]),\n",
       "  'euler_orientation': array([[ 0.        ,  0.        , -3.14159265],\n",
       "         [ 0.        ,  0.        ,  3.14159265]]),\n",
       "  'color': array([[0., 0., 0.],\n",
       "         [1., 1., 1.]]),\n",
       "  'mass': array([0.015, 0.2  ])},\n",
       " 'floor_color': array([[0., 0., 0.],\n",
       "        [1., 1., 1.]]),\n",
       " 'stage_color': array([[0., 0., 0.],\n",
       "        [1., 1., 1.]]),\n",
       " 'floor_friction': array([0.3, 0.8]),\n",
       " 'stage_friction': array([0.3, 0.8]),\n",
       " 'robot_finger_60_link_0': {'color': array([[0., 0., 0.],\n",
       "         [1., 1., 1.]]),\n",
       "  'mass': array([0.045, 0.6  ])},\n",
       " 'robot_finger_60_link_1': {'color': array([[0., 0., 0.],\n",
       "         [1., 1., 1.]]),\n",
       "  'mass': array([0.045, 0.6  ])},\n",
       " 'robot_finger_60_link_2': {'color': array([[0., 0., 0.],\n",
       "         [1., 1., 1.]]),\n",
       "  'mass': array([0.045, 0.6  ])},\n",
       " 'robot_finger_60_link_3': {'color': array([[0., 0., 0.],\n",
       "         [1., 1., 1.]]),\n",
       "  'mass': array([0.045, 0.6  ])},\n",
       " 'robot_finger_120_link_0': {'color': array([[0., 0., 0.],\n",
       "         [1., 1., 1.]]),\n",
       "  'mass': array([0.045, 0.6  ])},\n",
       " 'robot_finger_120_link_1': {'color': array([[0., 0., 0.],\n",
       "         [1., 1., 1.]]),\n",
       "  'mass': array([0.045, 0.6  ])},\n",
       " 'robot_finger_120_link_2': {'color': array([[0., 0., 0.],\n",
       "         [1., 1., 1.]]),\n",
       "  'mass': array([0.045, 0.6  ])},\n",
       " 'robot_finger_120_link_3': {'color': array([[0., 0., 0.],\n",
       "         [1., 1., 1.]]),\n",
       "  'mass': array([0.045, 0.6  ])},\n",
       " 'robot_finger_300_link_0': {'color': array([[0., 0., 0.],\n",
       "         [1., 1., 1.]]),\n",
       "  'mass': array([0.045, 0.6  ])},\n",
       " 'robot_finger_300_link_1': {'color': array([[0., 0., 0.],\n",
       "         [1., 1., 1.]]),\n",
       "  'mass': array([0.045, 0.6  ])},\n",
       " 'robot_finger_300_link_2': {'color': array([[0., 0., 0.],\n",
       "         [1., 1., 1.]]),\n",
       "  'mass': array([0.045, 0.6  ])},\n",
       " 'robot_finger_300_link_3': {'color': array([[0., 0., 0.],\n",
       "         [1., 1., 1.]]),\n",
       "  'mass': array([0.045, 0.6  ])},\n",
       " 'stack_levels': array([3, 8]),\n",
       " 'blocks_mass': array([0.02, 0.08]),\n",
       " 'blocks_min_size': array([0.035, 0.075]),\n",
       " 'max_level_width': array([0.035, 0.15 ]),\n",
       " 'number_of_obstacles': array([1, 5])}"
      ]
     },
     "execution_count": 71,
     "metadata": {},
     "output_type": "execute_result"
    }
   ],
   "source": [
    "print(env._task._task_params['variables_space'])\n",
    "env._task.get_intervention_space_a_b()\n"
   ]
  },
  {
   "cell_type": "markdown",
   "id": "cab48d5e",
   "metadata": {},
   "source": [
    "**Questions**:\n",
    "1. what is 'stage' in the task parameters ?\n",
    "1. what is the 'floor' in the task parameters ?"
   ]
  },
  {
   "cell_type": "code",
   "execution_count": 63,
   "id": "d635c302",
   "metadata": {},
   "outputs": [
    {
     "data": {
      "text/plain": [
       "{'floor_friction': 0.7720617597177273}"
      ]
     },
     "execution_count": 63,
     "metadata": {},
     "output_type": "execute_result"
    }
   ],
   "source": [
    "random_intervention_dict, success_signal, obs = env.do_single_random_intervention()\n",
    "random_intervention_dict"
   ]
  },
  {
   "cell_type": "code",
   "execution_count": 64,
   "id": "ff239fdd",
   "metadata": {},
   "outputs": [
    {
     "data": {
      "text/plain": [
       "{'joint_positions': array([[-1.57, -1.2 , -3.  , -1.57, -1.2 , -3.  , -1.57, -1.2 , -3.  ],\n",
       "        [-0.69,  0.  ,  0.  , -0.69,  0.  ,  0.  , -0.69,  0.  ,  0.  ]]),\n",
       " 'tool_level_0_num_0': {'cylindrical_position': array([[ 0.        , -3.14159265,  0.03674377],\n",
       "         [ 0.11      ,  3.14159265,  0.15      ]]),\n",
       "  'euler_orientation': array([[ 0.        ,  0.        , -3.14159265],\n",
       "         [ 0.        ,  0.        ,  3.14159265]]),\n",
       "  'color': array([[0.5, 0.5, 0.5],\n",
       "         [1. , 1. , 1. ]]),\n",
       "  'mass': array([0.015, 0.045])},\n",
       " 'tool_level_1_num_0': {'cylindrical_position': array([[ 0.        , -3.14159265,  0.03674377],\n",
       "         [ 0.11      ,  3.14159265,  0.15      ]]),\n",
       "  'euler_orientation': array([[ 0.        ,  0.        , -3.14159265],\n",
       "         [ 0.        ,  0.        ,  3.14159265]]),\n",
       "  'color': array([[0.5, 0.5, 0.5],\n",
       "         [1. , 1. , 1. ]]),\n",
       "  'mass': array([0.015, 0.045])},\n",
       " 'tool_level_2_num_0': {'cylindrical_position': array([[ 0.        , -3.14159265,  0.03674377],\n",
       "         [ 0.11      ,  3.14159265,  0.15      ]]),\n",
       "  'euler_orientation': array([[ 0.        ,  0.        , -3.14159265],\n",
       "         [ 0.        ,  0.        ,  3.14159265]]),\n",
       "  'color': array([[0.5, 0.5, 0.5],\n",
       "         [1. , 1. , 1. ]]),\n",
       "  'mass': array([0.015, 0.045])},\n",
       " 'tool_level_3_num_0': {'cylindrical_position': array([[ 0.        , -3.14159265,  0.03674377],\n",
       "         [ 0.11      ,  3.14159265,  0.15      ]]),\n",
       "  'euler_orientation': array([[ 0.        ,  0.        , -3.14159265],\n",
       "         [ 0.        ,  0.        ,  3.14159265]]),\n",
       "  'color': array([[0.5, 0.5, 0.5],\n",
       "         [1. , 1. , 1. ]]),\n",
       "  'mass': array([0.015, 0.045])},\n",
       " 'floor_color': array([[0.5, 0.5, 0.5],\n",
       "        [1. , 1. , 1. ]]),\n",
       " 'stage_color': array([[0. , 0. , 0. ],\n",
       "        [0.5, 0.5, 0.5]]),\n",
       " 'floor_friction': array([0.3, 0.8]),\n",
       " 'stage_friction': array([0.3, 0.8]),\n",
       " 'robot_finger_60_link_0': {'color': array([[0. , 0. , 0. ],\n",
       "         [0.5, 0.5, 0.5]]),\n",
       "  'mass': array([0.2, 0.6])},\n",
       " 'robot_finger_60_link_1': {'color': array([[0. , 0. , 0. ],\n",
       "         [0.5, 0.5, 0.5]]),\n",
       "  'mass': array([0.2, 0.6])},\n",
       " 'robot_finger_60_link_2': {'color': array([[0. , 0. , 0. ],\n",
       "         [0.5, 0.5, 0.5]]),\n",
       "  'mass': array([0.2, 0.6])},\n",
       " 'robot_finger_60_link_3': {'color': array([[0. , 0. , 0. ],\n",
       "         [0.5, 0.5, 0.5]]),\n",
       "  'mass': array([0.2, 0.6])},\n",
       " 'robot_finger_120_link_0': {'color': array([[0. , 0. , 0. ],\n",
       "         [0.5, 0.5, 0.5]]),\n",
       "  'mass': array([0.2, 0.6])},\n",
       " 'robot_finger_120_link_1': {'color': array([[0. , 0. , 0. ],\n",
       "         [0.5, 0.5, 0.5]]),\n",
       "  'mass': array([0.2, 0.6])},\n",
       " 'robot_finger_120_link_2': {'color': array([[0. , 0. , 0. ],\n",
       "         [0.5, 0.5, 0.5]]),\n",
       "  'mass': array([0.2, 0.6])},\n",
       " 'robot_finger_120_link_3': {'color': array([[0. , 0. , 0. ],\n",
       "         [0.5, 0.5, 0.5]]),\n",
       "  'mass': array([0.2, 0.6])},\n",
       " 'robot_finger_300_link_0': {'color': array([[0. , 0. , 0. ],\n",
       "         [0.5, 0.5, 0.5]]),\n",
       "  'mass': array([0.2, 0.6])},\n",
       " 'robot_finger_300_link_1': {'color': array([[0. , 0. , 0. ],\n",
       "         [0.5, 0.5, 0.5]]),\n",
       "  'mass': array([0.2, 0.6])},\n",
       " 'robot_finger_300_link_2': {'color': array([[0. , 0. , 0. ],\n",
       "         [0.5, 0.5, 0.5]]),\n",
       "  'mass': array([0.2, 0.6])},\n",
       " 'robot_finger_300_link_3': {'color': array([[0. , 0. , 0. ],\n",
       "         [0.5, 0.5, 0.5]]),\n",
       "  'mass': array([0.2, 0.6])},\n",
       " 'stack_levels': array([3, 5]),\n",
       " 'blocks_mass': array([0.02, 0.06]),\n",
       " 'blocks_min_size': array([0.035, 0.065]),\n",
       " 'max_level_width': array([0.035, 0.12 ]),\n",
       " 'number_of_obstacles': array([1, 5])}"
      ]
     },
     "execution_count": 64,
     "metadata": {},
     "output_type": "execute_result"
    }
   ],
   "source": [
    "env.get_intervention_space_a()"
   ]
  },
  {
   "cell_type": "code",
   "execution_count": 73,
   "id": "d2e18892",
   "metadata": {},
   "outputs": [
    {
     "name": "stdout",
     "output_type": "stream",
     "text": [
      "==================== No intervention split ====================\n",
      "Intervention success signal True\n",
      "Intervention success signal True\n",
      "==================== intervention split 1  ====================\n"
     ]
    },
    {
     "name": "stderr",
     "output_type": "stream",
     "text": [
      "WARNING:root:lower bound is: [0. 0. 0.]\n",
      "WARNING:root:applied: [0.5488135  0.71518937 0.60276338]\n",
      "WARNING:root:upper bound is:[0.5 0.5 0.5]\n",
      "WARNING:root:Applying intervention is out of bounds {'stage_color': array([0.5488135 , 0.71518937, 0.60276338])}\n",
      "WARNING:root:Invalid Intervention was just executed!\n"
     ]
    },
    {
     "name": "stdout",
     "output_type": "stream",
     "text": [
      "Intervention success signal False\n"
     ]
    },
    {
     "name": "stderr",
     "output_type": "stream",
     "text": [
      "WARNING:root:lower bound is: [0. 0. 0.]\n",
      "WARNING:root:applied: [0.54488318 0.4236548  0.64589411]\n",
      "WARNING:root:upper bound is:[0.5 0.5 0.5]\n",
      "WARNING:root:Applying intervention is out of bounds {'stage_color': array([0.54488318, 0.4236548 , 0.64589411])}\n",
      "WARNING:root:Invalid Intervention was just executed!\n"
     ]
    },
    {
     "name": "stdout",
     "output_type": "stream",
     "text": [
      "Intervention success signal False\n",
      "==================== intervention split 2  ====================\n"
     ]
    },
    {
     "name": "stderr",
     "output_type": "stream",
     "text": [
      "WARNING:root:lower bound is: [0.5 0.5 0.5]\n",
      "WARNING:root:applied: [0.27440675 0.35759468 0.30138169]\n",
      "WARNING:root:upper bound is:[1. 1. 1.]\n",
      "WARNING:root:Applying intervention is out of bounds {'stage_color': array([0.27440675, 0.35759468, 0.30138169])}\n",
      "WARNING:root:Invalid Intervention was just executed!\n"
     ]
    },
    {
     "name": "stdout",
     "output_type": "stream",
     "text": [
      "Intervention success signal False\n"
     ]
    },
    {
     "name": "stderr",
     "output_type": "stream",
     "text": [
      "WARNING:root:lower bound is: [0.5 0.5 0.5]\n",
      "WARNING:root:applied: [0.27244159 0.2118274  0.32294706]\n",
      "WARNING:root:upper bound is:[1. 1. 1.]\n",
      "WARNING:root:Applying intervention is out of bounds {'stage_color': array([0.27244159, 0.2118274 , 0.32294706])}\n",
      "WARNING:root:Invalid Intervention was just executed!\n"
     ]
    },
    {
     "name": "stdout",
     "output_type": "stream",
     "text": [
      "Intervention success signal False\n",
      "==================== intervention split 2  ====================\n",
      "Intervention success signal True\n",
      "Intervention success signal True\n"
     ]
    }
   ],
   "source": [
    "\"\"\"\n",
    "interventions_2\n",
    "This tutorial shows you how to control the allowed space for interventions\n",
    "\"\"\"\n",
    "\n",
    "\n",
    "def without_intervention_split():\n",
    "    print('='*20,'No intervention split','='*20)\n",
    "    task = generate_task(task_generator_id='pushing')\n",
    "    env = CausalWorld(task=task, enable_visualization=False)\n",
    "    env.reset()\n",
    "    for _ in range(2):\n",
    "        for i in range(200):\n",
    "            obs, reward, done, info = env.step(env.action_space.sample())\n",
    "        success_signal, obs = env.do_intervention(\n",
    "            {'stage_color': np.random.uniform(0, 1, [\n",
    "                3,\n",
    "            ])})\n",
    "        print(\"Intervention success signal\", success_signal)\n",
    "    env.close()\n",
    "\n",
    "\n",
    "def with_intervention_split_1():\n",
    "    print('='*20,'intervention split 1 ','='*20)\n",
    "    task = generate_task(task_generator_id='pushing',\n",
    "                          variables_space='space_a')\n",
    "    env = CausalWorld(task=task, enable_visualization=False)\n",
    "    env.reset()\n",
    "    for _ in range(2):\n",
    "        for i in range(200):\n",
    "            obs, reward, done, info = env.step(env.action_space.sample())\n",
    "        success_signal, obs = env.do_intervention(\n",
    "            {'stage_color': np.random.uniform(0, 1, [\n",
    "                3,\n",
    "            ])})\n",
    "        print(\"Intervention success signal\", success_signal)\n",
    "    env.close()\n",
    "\n",
    "\n",
    "def with_intervention_split_2():\n",
    "    print('='*20,'intervention split 2 ','='*20)\n",
    "    task = generate_task(task_generator_id='pushing',\n",
    "                          variables_space='space_b')\n",
    "    env = CausalWorld(task=task, enable_visualization=False)\n",
    "    interventions_space = task.get_intervention_space_a()\n",
    "    env.reset()\n",
    "    for _ in range(2):\n",
    "        for i in range(200):\n",
    "            obs, reward, done, info = env.step(env.action_space.sample())\n",
    "        success_signal, obs = env.do_intervention({\n",
    "            'stage_color':\n",
    "                np.random.uniform(interventions_space['stage_color'][0],\n",
    "                                  interventions_space['stage_color'][1])\n",
    "        })\n",
    "        print(\"Intervention success signal\", success_signal)\n",
    "    env.close()\n",
    "\n",
    "\n",
    "def with_intervention_split_3():\n",
    "    print('='*20,'intervention split 3 ','='*20)\n",
    "    task = generate_task(task_generator_id='pushing',\n",
    "                          variables_space='space_b')\n",
    "    env = CausalWorld(task=task, enable_visualization=False)\n",
    "    interventions_space = task.get_intervention_space_b()\n",
    "    env.reset()\n",
    "    for _ in range(2):\n",
    "        for i in range(200):\n",
    "            obs, reward, done, info = env.step(env.action_space.sample())\n",
    "        success_signal, obs = env.do_intervention({\n",
    "            'stage_color':\n",
    "                np.random.uniform(interventions_space['stage_color'][0],\n",
    "                                  interventions_space['stage_color'][1])\n",
    "        })\n",
    "        print(\"Intervention success signal\", success_signal)\n",
    "    env.close()\n",
    "\n",
    "\n",
    "without_intervention_split()\n",
    "with_intervention_split_1()\n",
    "with_intervention_split_2()\n",
    "with_intervention_split_3()\n"
   ]
  },
  {
   "cell_type": "code",
   "execution_count": 75,
   "id": "a989e795",
   "metadata": {},
   "outputs": [
    {
     "name": "stdout",
     "output_type": "stream",
     "text": [
      "startThreads creating 1 threads.\n",
      "starting thread 0\n",
      "started thread 0 \n",
      "argc=2\n",
      "argv[0] = --unused\n",
      "argv[1] = --start_demo_name=Physics Server\n",
      "ExampleBrowserThreadFunc started\n",
      "X11 functions dynamically loaded using dlopen/dlsym OK!\n",
      "X11 functions dynamically loaded using dlopen/dlsym OK!\n",
      "Creating context\n",
      "Created GL 3.3 context\n",
      "Direct GLX rendering context obtained\n",
      "Making context current\n",
      "GL_VENDOR=NVIDIA Corporation\n",
      "GL_RENDERER=NVIDIA GeForce GTX 970/PCIe/SSE2\n",
      "GL_VERSION=3.3.0 NVIDIA 510.47.03\n",
      "GL_SHADING_LANGUAGE_VERSION=3.30 NVIDIA via Cg compiler\n",
      "pthread_getconcurrency()=0\n",
      "Version = 3.3.0 NVIDIA 510.47.03\n",
      "Vendor = NVIDIA Corporation\n",
      "Renderer = NVIDIA GeForce GTX 970/PCIe/SSE2\n",
      "b3Printf: Selected demo: Physics Server\n",
      "startThreads creating 1 threads.\n",
      "starting thread 0\n",
      "started thread 0 \n",
      "MotionThreadFunc thread started\n",
      "ven = NVIDIA Corporation\n",
      "ven = NVIDIA Corporation\n",
      "---------- episode 0 ----------\n"
     ]
    },
    {
     "data": {
      "application/vnd.jupyter.widget-view+json": {
       "model_id": "28f18434f4f54a32a62c469f87414055",
       "version_major": 2,
       "version_minor": 0
      },
      "text/plain": [
       "  0%|          | 0/200 [00:00<?, ?it/s]"
      ]
     },
     "metadata": {},
     "output_type": "display_data"
    },
    {
     "name": "stdout",
     "output_type": "stream",
     "text": [
      "new goal chosen:  {'stack_levels': 4.841694527491273, 'blocks_mass': 0.06291136198234516, 'blocks_min_size': 0.05911053504286576, 'max_level_width': 0.09766156604464314}\n",
      "Goal Intervention success signal True\n",
      "---------- episode 1 ----------\n"
     ]
    },
    {
     "data": {
      "application/vnd.jupyter.widget-view+json": {
       "model_id": "c45b71bdb4e64ae8b1456c797e63514f",
       "version_major": 2,
       "version_minor": 0
      },
      "text/plain": [
       "  0%|          | 0/200 [00:00<?, ?it/s]"
      ]
     },
     "metadata": {},
     "output_type": "display_data"
    },
    {
     "name": "stdout",
     "output_type": "stream",
     "text": [
      "new goal chosen:  {'stack_levels': 7.918616866414583, 'blocks_mass': 0.026122688644881684, 'blocks_min_size': 0.04335507024379339, 'max_level_width': 0.05355059455677457}\n",
      "Goal Intervention success signal True\n",
      "---------- episode 2 ----------\n"
     ]
    },
    {
     "data": {
      "application/vnd.jupyter.widget-view+json": {
       "model_id": "0a4f992d8cd24d0a948b9975d88ff34a",
       "version_major": 2,
       "version_minor": 0
      },
      "text/plain": [
       "  0%|          | 0/200 [00:00<?, ?it/s]"
      ]
     },
     "metadata": {},
     "output_type": "display_data"
    },
    {
     "name": "stdout",
     "output_type": "stream",
     "text": [
      "new goal chosen:  {'stack_levels': 3.0879762816922156, 'blocks_mass': 0.05419789464207589, 'blocks_min_size': 0.05863491044992693, 'max_level_width': 0.10104740361770156}\n",
      "Goal Intervention success signal True\n",
      "---------- episode 3 ----------\n"
     ]
    },
    {
     "data": {
      "application/vnd.jupyter.widget-view+json": {
       "model_id": "280e680ae17c491b96a8d0ddc7498fdb",
       "version_major": 2,
       "version_minor": 0
      },
      "text/plain": [
       "  0%|          | 0/200 [00:00<?, ?it/s]"
      ]
     },
     "metadata": {},
     "output_type": "display_data"
    },
    {
     "name": "stdout",
     "output_type": "stream",
     "text": [
      "new goal chosen:  {'stack_levels': 6.555883923501945, 'blocks_mass': 0.03343548128362281, 'blocks_min_size': 0.04881406722787611, 'max_level_width': 0.14172934874854293}\n",
      "Goal Intervention success signal True\n",
      "---------- episode 4 ----------\n"
     ]
    },
    {
     "data": {
      "application/vnd.jupyter.widget-view+json": {
       "model_id": "a0bd87682f6044b2acea0e3684a84564",
       "version_major": 2,
       "version_minor": 0
      },
      "text/plain": [
       "  0%|          | 0/200 [00:00<?, ?it/s]"
      ]
     },
     "metadata": {},
     "output_type": "display_data"
    },
    {
     "name": "stdout",
     "output_type": "stream",
     "text": [
      "new goal chosen:  {'stack_levels': 6.018017768348156, 'blocks_mass': 0.04376358216843762, 'blocks_min_size': 0.057616852474340355, 'max_level_width': 0.056077181164619044}\n",
      "Goal Intervention success signal True\n",
      "---------- episode 5 ----------\n"
     ]
    },
    {
     "data": {
      "application/vnd.jupyter.widget-view+json": {
       "model_id": "fab1539adbbe423e9f5fe65e2b8ecb38",
       "version_major": 2,
       "version_minor": 0
      },
      "text/plain": [
       "  0%|          | 0/200 [00:00<?, ?it/s]"
      ]
     },
     "metadata": {},
     "output_type": "display_data"
    },
    {
     "name": "stdout",
     "output_type": "stream",
     "text": [
      "new goal chosen:  {'stack_levels': 5.704334651477401, 'blocks_mass': 0.03472203259117068, 'blocks_min_size': 0.05182157866720394, 'max_level_width': 0.09909741100225045}\n",
      "Goal Intervention success signal True\n",
      "---------- episode 6 ----------\n"
     ]
    },
    {
     "data": {
      "application/vnd.jupyter.widget-view+json": {
       "model_id": "47e775ba8c5742588859a13e73302984",
       "version_major": 2,
       "version_minor": 0
      },
      "text/plain": [
       "  0%|          | 0/200 [00:00<?, ?it/s]"
      ]
     },
     "metadata": {},
     "output_type": "display_data"
    },
    {
     "name": "stdout",
     "output_type": "stream",
     "text": [
      "new goal chosen:  {'stack_levels': 5.452427388129989, 'blocks_mass': 0.03440121640278257, 'blocks_min_size': 0.04142155289941026, 'max_level_width': 0.12658501956949314}\n",
      "Goal Intervention success signal True\n",
      "---------- episode 7 ----------\n"
     ]
    },
    {
     "data": {
      "application/vnd.jupyter.widget-view+json": {
       "model_id": "8bda8c98366e42f08d76441a3d64c317",
       "version_major": 2,
       "version_minor": 0
      },
      "text/plain": [
       "  0%|          | 0/200 [00:00<?, ?it/s]"
      ]
     },
     "metadata": {},
     "output_type": "display_data"
    },
    {
     "name": "stdout",
     "output_type": "stream",
     "text": [
      "new goal chosen:  {'stack_levels': 4.882814660629933, 'blocks_mass': 0.037223091195177783, 'blocks_min_size': 0.06326298825091915, 'max_level_width': 0.08270853997335986}\n",
      "Goal Intervention success signal True\n",
      "---------- episode 8 ----------\n"
     ]
    },
    {
     "data": {
      "application/vnd.jupyter.widget-view+json": {
       "model_id": "f7ce0f6c15d6443ea3bef4e201c6d6ce",
       "version_major": 2,
       "version_minor": 0
      },
      "text/plain": [
       "  0%|          | 0/200 [00:00<?, ?it/s]"
      ]
     },
     "metadata": {},
     "output_type": "display_data"
    },
    {
     "name": "stdout",
     "output_type": "stream",
     "text": [
      "new goal chosen:  {'stack_levels': 7.774562702589513, 'blocks_mass': 0.052813094100165325, 'blocks_min_size': 0.04599294279470387, 'max_level_width': 0.10310649815761123}\n",
      "Goal Intervention success signal True\n",
      "---------- episode 9 ----------\n"
     ]
    },
    {
     "data": {
      "application/vnd.jupyter.widget-view+json": {
       "model_id": "369539807f6a47bbaa56c9eead1b81b0",
       "version_major": 2,
       "version_minor": 0
      },
      "text/plain": [
       "  0%|          | 0/200 [00:00<?, ?it/s]"
      ]
     },
     "metadata": {},
     "output_type": "display_data"
    },
    {
     "name": "stdout",
     "output_type": "stream",
     "text": [
      "new goal chosen:  {'stack_levels': 7.355129160480282, 'blocks_mass': 0.029613827979208595, 'blocks_min_size': 0.06144470046032398, 'max_level_width': 0.08563033157539156}\n",
      "Goal Intervention success signal True\n",
      "numActiveThreads = 0\n",
      "stopping threads\n",
      "destroy semaphore\n",
      "Thread with taskId 0 exiting\n",
      "Thread TERMINATED\n",
      "semaphore destroyed\n",
      "destroy main semaphore\n",
      "main semaphore destroyed\n",
      "finished\n",
      "numActiveThreads = 0\n",
      "btShutDownExampleBrowser stopping threads\n",
      "destroy semaphore\n",
      "semaphore destroyed\n",
      "Thread with taskId 0 exiting\n",
      "Thread TERMINATED\n",
      "destroy main semaphore\n",
      "main semaphore destroyed\n"
     ]
    }
   ],
   "source": [
    "# %load ./CausalWorld/tutorials/interventions/tutorial_three.py\n",
    "\"\"\"\n",
    "intervention_3\n",
    "This tutorial shows you how to sample new goals by intervening\n",
    "on the environment.\n",
    "\"\"\"\n",
    "def goal_interventions():\n",
    "    task = generate_task(task_generator_id='stacked_blocks')\n",
    "    env = CausalWorld(task=task, enable_visualization=True)\n",
    "    env.reset()\n",
    "    for e in range(10):\n",
    "        print('-'*10,f'episode {e}','-'*10)\n",
    "        for i in tqdm(range(200)):\n",
    "            obs, reward, done, info = env.step(env.action_space.sample())\n",
    "        goal_intervention_dict = env.sample_new_goal()\n",
    "        print(\"new goal chosen: \", goal_intervention_dict)\n",
    "        success_signal, obs = env.do_intervention(goal_intervention_dict)\n",
    "        print(\"Goal Intervention success signal\", success_signal)\n",
    "    env.close()\n",
    "\n",
    "\n",
    "goal_interventions()"
   ]
  },
  {
   "cell_type": "code",
   "execution_count": 79,
   "id": "d72f6c43",
   "metadata": {},
   "outputs": [
    {
     "name": "stdout",
     "output_type": "stream",
     "text": [
      "startThreads creating 1 threads.\n",
      "starting thread 0\n",
      "started thread 0 \n",
      "argc=2\n",
      "argv[0] = --unused\n",
      "argv[1] = --start_demo_name=Physics Server\n",
      "ExampleBrowserThreadFunc started\n",
      "X11 functions dynamically loaded using dlopen/dlsym OK!\n",
      "X11 functions dynamically loaded using dlopen/dlsym OK!\n",
      "Creating context\n",
      "Created GL 3.3 context\n",
      "Direct GLX rendering context obtained\n",
      "Making context current\n",
      "GL_VENDOR=NVIDIA Corporation\n",
      "GL_RENDERER=NVIDIA GeForce GTX 970/PCIe/SSE2\n",
      "GL_VERSION=3.3.0 NVIDIA 510.47.03\n",
      "GL_SHADING_LANGUAGE_VERSION=3.30 NVIDIA via Cg compiler\n",
      "pthread_getconcurrency()=0\n",
      "Version = 3.3.0 NVIDIA 510.47.03\n",
      "Vendor = NVIDIA Corporation\n",
      "Renderer = NVIDIA GeForce GTX 970/PCIe/SSE2\n",
      "b3Printf: Selected demo: Physics Server\n",
      "startThreads creating 1 threads.\n",
      "starting thread 0\n",
      "started thread 0 \n",
      "MotionThreadFunc thread started\n",
      "ven = NVIDIA Corporation\n",
      "ven = NVIDIA Corporation\n",
      "---------- episode 1/10 ----------\n",
      "Goal Intervention success signal True\n",
      "fractional_success is: 0.3773368786177418\n",
      "now we solve it with privileged info\n",
      "Partial Solution Setting Intervention Succes Signal True\n",
      "fractional_success is: 0.9982112956248578\n",
      "---------- episode 2/10 ----------\n",
      "Goal Intervention success signal True\n",
      "fractional_success is: 0.18825426774095685\n",
      "now we solve it with privileged info\n",
      "Partial Solution Setting Intervention Succes Signal True\n",
      "fractional_success is: 1.0233552071736753\n",
      "---------- episode 3/10 ----------\n",
      "Goal Intervention success signal True\n",
      "fractional_success is: 0.03205981011685953\n",
      "now we solve it with privileged info\n",
      "Partial Solution Setting Intervention Succes Signal True\n",
      "fractional_success is: 0.963531538222652\n",
      "---------- episode 4/10 ----------\n",
      "Goal Intervention success signal True\n",
      "fractional_success is: 0.09577619661444181\n",
      "now we solve it with privileged info\n",
      "Partial Solution Setting Intervention Succes Signal True\n",
      "fractional_success is: 0.9997416947839882\n",
      "---------- episode 5/10 ----------\n",
      "Goal Intervention success signal True\n",
      "fractional_success is: 0.1837296195517917\n",
      "now we solve it with privileged info\n",
      "Partial Solution Setting Intervention Succes Signal True\n",
      "fractional_success is: 0.9992785623888847\n",
      "---------- episode 6/10 ----------\n",
      "Goal Intervention success signal True\n",
      "fractional_success is: 0.557802881475441\n",
      "now we solve it with privileged info\n",
      "Partial Solution Setting Intervention Succes Signal True\n",
      "fractional_success is: 1.0672022587155943\n",
      "---------- episode 7/10 ----------\n",
      "Goal Intervention success signal True\n",
      "fractional_success is: 0.1620181857983625\n",
      "now we solve it with privileged info\n",
      "Partial Solution Setting Intervention Succes Signal True\n",
      "fractional_success is: 0.9992644237194369\n",
      "---------- episode 8/10 ----------\n",
      "Goal Intervention success signal True\n",
      "fractional_success is: 0.26382273915610577\n",
      "now we solve it with privileged info\n",
      "Partial Solution Setting Intervention Succes Signal True\n",
      "fractional_success is: 1.0046460465818288\n",
      "---------- episode 9/10 ----------\n",
      "Goal Intervention success signal True\n",
      "fractional_success is: 0.1885707120170645\n",
      "now we solve it with privileged info\n",
      "Partial Solution Setting Intervention Succes Signal True\n",
      "fractional_success is: 0.9989883343836425\n",
      "---------- episode 10/10 ----------\n",
      "Goal Intervention success signal True\n",
      "fractional_success is: 0.3841189463261608\n",
      "now we solve it with privileged info\n",
      "Partial Solution Setting Intervention Succes Signal True\n",
      "fractional_success is: 1.0381076902631106\n",
      "numActiveThreads = 0\n",
      "stopping threads\n",
      "Thread with taskId 0 exiting\n",
      "Thread TERMINATED\n",
      "destroy semaphore\n",
      "semaphore destroyed\n",
      "destroy main semaphore\n",
      "main semaphore destroyed\n",
      "finished\n",
      "numActiveThreads = 0\n",
      "btShutDownExampleBrowser stopping threads\n",
      "Thread with taskId 0 exiting\n",
      "Thread TERMINATED\n",
      "destroy semaphore\n",
      "semaphore destroyed\n",
      "destroy main semaphore\n",
      "main semaphore destroyed\n"
     ]
    }
   ],
   "source": [
    "# %load ./CausalWorld/tutorials/interventions/tutorial_four.py\n",
    "\"\"\"\n",
    "interventions_4\n",
    "This tutorial shows you how to use privileged information to solve the\n",
    "task at hand.\n",
    "\"\"\"\n",
    "\n",
    "def privileged_information():\n",
    "    task = generate_task(task_generator_id='general')\n",
    "    env = CausalWorld(task=task, enable_visualization=True)\n",
    "    env.expose_potential_partial_solution()\n",
    "    env.reset()\n",
    "    for e in range(10):\n",
    "        print('-'*10,f'episode {e+1}/10','-'*10)\n",
    "        goal_intervention_dict = env.sample_new_goal()\n",
    "        success_signal, obs = env.do_intervention(goal_intervention_dict)\n",
    "        print(\"Goal Intervention success signal\", success_signal)\n",
    "        for i in range(100):\n",
    "            obs, reward, done, info = env.step(env.action_space.low)\n",
    "        print(\"fractional_success is:\", info['fractional_success'])\n",
    "        print(\"now we solve it with privileged info\")\n",
    "        success_signal, obs = env.do_intervention(\n",
    "            info['possible_solution_intervention'], check_bounds=False)\n",
    "        print(\"Partial Solution Setting Intervention Succes Signal\",\n",
    "              success_signal)\n",
    "        for i in range(100):\n",
    "            obs, reward, done, info = env.step(env.action_space.low)    # how does this action solve the problem ???\n",
    "        print(\"fractional_success is:\", info['fractional_success'])\n",
    "    env.close()\n",
    "\n",
    "\n",
    "\n",
    "privileged_information()\n"
   ]
  },
  {
   "cell_type": "code",
   "execution_count": 81,
   "id": "be0a3d9f",
   "metadata": {},
   "outputs": [
    {
     "name": "stdout",
     "output_type": "stream",
     "text": [
      "picking\n",
      "startThreads creating 1 threads.\n",
      "starting thread 0\n",
      "started thread 0 \n",
      "argc=2\n",
      "argv[0] = --unused\n",
      "argv[1] = --start_demo_name=Physics Server\n",
      "ExampleBrowserThreadFunc started\n",
      "X11 functions dynamically loaded using dlopen/dlsym OK!\n",
      "X11 functions dynamically loaded using dlopen/dlsym OK!\n",
      "Creating context\n",
      "Created GL 3.3 context\n",
      "Direct GLX rendering context obtained\n",
      "Making context current\n",
      "GL_VENDOR=NVIDIA Corporation\n",
      "GL_RENDERER=NVIDIA GeForce GTX 970/PCIe/SSE2\n",
      "GL_VERSION=3.3.0 NVIDIA 510.47.03\n",
      "GL_SHADING_LANGUAGE_VERSION=3.30 NVIDIA via Cg compiler\n",
      "pthread_getconcurrency()=0\n",
      "Version = 3.3.0 NVIDIA 510.47.03\n",
      "Vendor = NVIDIA Corporation\n",
      "Renderer = NVIDIA GeForce GTX 970/PCIe/SSE2\n",
      "b3Printf: Selected demo: Physics Server\n",
      "startThreads creating 1 threads.\n",
      "starting thread 0\n",
      "started thread 0 \n",
      "MotionThreadFunc thread started\n",
      "ven = NVIDIA Corporation\n",
      "ven = NVIDIA Corporation\n"
     ]
    },
    {
     "name": "stderr",
     "output_type": "stream",
     "text": [
      "WARNING:root:{} not in intervention_space\n",
      "WARNING:root:Applying intervention is out of bounds {'goal_block': {'cartesian_position': [0.1, 0.1, 0.1]}}\n",
      "WARNING:root:Invalid Intervention was just executed!\n"
     ]
    },
    {
     "name": "stdout",
     "output_type": "stream",
     "text": [
      "episode 1\n",
      "now we call reset_default_state\n",
      "episode 1\n",
      "now we do env.reset()\n",
      "and doing episode 3:\n",
      "numActiveThreads = 0\n",
      "stopping threads\n",
      "destroy semaphore\n",
      "semaphore destroyed\n",
      "Thread with taskId 0 exiting\n",
      "Thread TERMINATED\n",
      "destroy main semaphore\n",
      "main semaphore destroyed\n",
      "finished\n",
      "numActiveThreads = 0\n",
      "btShutDownExampleBrowser stopping threads\n",
      "Thread with taskId 0 exiting\n",
      "Thread TERMINATED\n",
      "destroy semaphore\n",
      "semaphore destroyed\n",
      "destroy main semaphore\n",
      "main semaphore destroyed\n"
     ]
    }
   ],
   "source": [
    "# %load ./CausalWorld/tutorials/interventions/tutorial_five.py\n",
    "\"\"\"\n",
    "This tutorial shows you how to intervene on the default starting state,\n",
    "\"\"\"\n",
    "import numpy as np\n",
    "\n",
    "\n",
    "def example():\n",
    "    task = generate_task(task_generator_id='picking')\n",
    "    env = CausalWorld(task=task, enable_visualization=True)\n",
    "    env.set_starting_state(\n",
    "        {'goal_block': {\n",
    "            'cartesian_position': [0.1, 0.1, 0.1]\n",
    "        }})\n",
    "    print('episode 1')\n",
    "    for _ in range(500):\n",
    "        obs, reward, done, info = env.step(env.action_space.sample())\n",
    "    print('now we call reset_default_state')\n",
    "    env.reset_default_state()\n",
    "    print('episode 2')\n",
    "    for _ in range(500):\n",
    "        obs, reward, done, info = env.step(env.action_space.sample())\n",
    "    print('now we do env.reset()')\n",
    "    env.reset()\n",
    "    print('and doing episode 3:')\n",
    "    for _ in range(500):\n",
    "        obs, reward, done, info = env.step(env.action_space.sample())\n",
    "    env.close()\n",
    "\n",
    "\n",
    "if __name__ == '__main__':\n",
    "    example()\n"
   ]
  },
  {
   "cell_type": "code",
   "execution_count": 82,
   "id": "cb002e52",
   "metadata": {},
   "outputs": [],
   "source": [
    "# %load ./CausalWorld/tutorials/interventions/tutorial_six.py\n",
    "\"\"\"\n",
    "This tutorial shows you how to use the intervention space is sampling an intervention\n",
    "\"\"\"\n",
    "\n",
    "from causal_world.envs.causalworld import CausalWorld\n",
    "from causal_world.task_generators.task import generate_task\n",
    "import numpy as np\n",
    "\n",
    "\n",
    "def example():\n",
    "    task = generate_task(task_generator_id='pick_and_place')\n",
    "    env = CausalWorld(task=task, enable_visualization=True)\n",
    "    env.reset()\n",
    "    intervention_space = env.get_variable_space_used()\n",
    "    for _ in range(100):\n",
    "        for i in range(200):\n",
    "            obs, reward, done, info = env.step(env.action_space.low)\n",
    "        intervention = {'tool_block': {'size': np.random.uniform(intervention_space['tool_block']['size'][0],\n",
    "                                                                 intervention_space['tool_block']['size'][1])}}\n",
    "        env.do_intervention(intervention)\n",
    "    env.close()\n",
    "\n",
    "\n",
    "if __name__ == '__main__':\n",
    "    example()\n",
    "\n"
   ]
  }
 ],
 "metadata": {
  "kernelspec": {
   "display_name": "Python 3 (ipykernel)",
   "language": "python",
   "name": "python3"
  },
  "language_info": {
   "codemirror_mode": {
    "name": "ipython",
    "version": 3
   },
   "file_extension": ".py",
   "mimetype": "text/x-python",
   "name": "python",
   "nbconvert_exporter": "python",
   "pygments_lexer": "ipython3",
   "version": "3.7.4"
  }
 },
 "nbformat": 4,
 "nbformat_minor": 5
}
